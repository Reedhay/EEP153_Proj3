{
 "cells": [
  {
   "cell_type": "markdown",
   "metadata": {},
   "source": [
    "# Project 3: Food Demand Project"
   ]
  },
  {
   "cell_type": "markdown",
   "metadata": {},
   "source": [
    "### [A] Choice of population, with supporting expenditure data "
   ]
  },
  {
   "cell_type": "markdown",
   "metadata": {},
   "source": [
    "### [B] Nutritional data of different foods"
   ]
  },
  {
   "cell_type": "markdown",
   "metadata": {},
   "source": [
    "### [B] Nutritional adequacy - compare actual diets to RDA "
   ]
  },
  {
   "cell_type": "markdown",
   "metadata": {},
   "source": [
    "### [A] Estimate demand system "
   ]
  },
  {
   "cell_type": "markdown",
   "metadata": {},
   "source": []
  },
  {
   "cell_type": "code",
   "execution_count": null,
   "metadata": {
    "vscode": {
     "languageId": "plaintext"
    }
   },
   "outputs": [],
   "source": [
    "\n",
    "# sum nutrients of food codes (over the multiple ingredients)\n",
    "# python tip: one can merge dictionaries dict1 dict2 using **, that is: dict_merge = {**dict1, **dict2}. \n",
    "#The ** effectively \"unpacks\" the key value pairs in each dictionary\n",
    "df = df.groupby('parent_foodcode').agg({**{col: \"sum\" for col in numeric_cols},\n",
    "                                        \"parent_desc\": \"first\"})"
   ]
  }
 ],
 "metadata": {
  "language_info": {
   "name": "python"
  }
 },
 "nbformat": 4,
 "nbformat_minor": 2
}
